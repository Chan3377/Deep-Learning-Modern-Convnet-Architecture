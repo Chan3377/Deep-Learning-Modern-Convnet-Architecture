{
  "cells": [
    {
      "cell_type": "markdown",
      "metadata": {
        "id": "sYJxawQ4e_az"
      },
      "source": [
        "# **Modern convnet architecture patterns**"
      ]
    },
    {
      "cell_type": "markdown",
      "metadata": {
        "id": "X0mvmAhne_a0"
      },
      "source": [
        "### Residual connections"
      ]
    },
    {
      "cell_type": "markdown",
      "source": [
        "The residual connection acts as an information shortcut around destructive or noisy blocks (such as blocks that contain relu activations or dropout layers), enabling error gradient information from early layers to propagate noiselessly through a deep network."
      ],
      "metadata": {
        "id": "lWX4ZwTSg3NQ"
      }
    },
    {
      "cell_type": "markdown",
      "metadata": {
        "id": "XMqk4THGe_a1"
      },
      "source": [
        "**Residual block where the number of filters changes**"
      ]
    },
    {
      "cell_type": "code",
      "execution_count": null,
      "metadata": {
        "id": "FdzyTsi8e_a1"
      },
      "outputs": [],
      "source": [
        "from tensorflow import keras\n",
        "from tensorflow.keras import layers\n",
        "\n",
        "inputs = keras.Input(shape=(32, 32, 3))\n",
        "x = layers.Conv2D(32, 3, activation=\"relu\")(inputs)\n",
        "# set residual layer equivalent to the first layer\n",
        "residual = x\n",
        "# first layer increases the number of output filers from 32 to 64\n",
        "# padding=\"same\" to avoid downsampling due to padding\n",
        "x = layers.Conv2D(64, 3, activation=\"relu\", padding=\"same\")(x)\n",
        "# The residual only had 32 filters, so use a 1 × 1 Conv2D to project it to the correct shape.\n",
        "residual = layers.Conv2D(64, 1)(residual)\n",
        "# Now the block output and the residual have the same shape and can be added\n",
        "x = layers.add([x, residual])"
      ]
    },
    {
      "cell_type": "code",
      "source": [
        "residual.shape, x.shape"
      ],
      "metadata": {
        "colab": {
          "base_uri": "https://localhost:8080/"
        },
        "id": "qvrboVP-jHAY",
        "outputId": "7bc4a94a-19b1-41bd-aa56-6ec643e08a93"
      },
      "execution_count": null,
      "outputs": [
        {
          "output_type": "execute_result",
          "data": {
            "text/plain": [
              "(TensorShape([None, 30, 30, 64]), TensorShape([None, 30, 30, 64]))"
            ]
          },
          "metadata": {},
          "execution_count": 8
        }
      ]
    },
    {
      "cell_type": "markdown",
      "metadata": {
        "id": "z2PD17Tke_a2"
      },
      "source": [
        "**Case where target block includes a max pooling layer**"
      ]
    },
    {
      "cell_type": "code",
      "execution_count": null,
      "metadata": {
        "id": "m-J1WkIue_a2"
      },
      "outputs": [],
      "source": [
        "inputs = keras.Input(shape=(32, 32, 3))\n",
        "x = layers.Conv2D(32, 3, activation=\"relu\")(inputs)\n",
        "residual = x\n",
        "# the block of two layers around which creates a residual connection: it includes a 2 × 2 max pooling layer\n",
        "# padding=\"same\" to avoid downsampling due to padding\n",
        "x = layers.Conv2D(64, 3, activation=\"relu\", padding=\"same\")(x)\n",
        "x = layers.MaxPooling2D(2, padding=\"same\")(x)\n",
        "\n",
        "# use strides=2 in the residual projection to match the downsampling created by the max pooling layer\n",
        "residual = layers.Conv2D(64, 1, strides=2)(residual)\n",
        "# Now the block output and the residual have the same shape and can be added\n",
        "x = layers.add([x, residual])"
      ]
    },
    {
      "cell_type": "code",
      "source": [
        "residual.shape, x.shape"
      ],
      "metadata": {
        "colab": {
          "base_uri": "https://localhost:8080/"
        },
        "id": "Y_UXWM-Gj5WT",
        "outputId": "30b84877-9714-448c-cf75-0ec4257c0adf"
      },
      "execution_count": null,
      "outputs": [
        {
          "output_type": "execute_result",
          "data": {
            "text/plain": [
              "(TensorShape([None, 15, 15, 64]), TensorShape([None, 15, 15, 64]))"
            ]
          },
          "metadata": {},
          "execution_count": 13
        }
      ]
    },
    {
      "cell_type": "markdown",
      "source": [
        "Create function to handle the option to add max pooling"
      ],
      "metadata": {
        "id": "YZ6qEMQ5pj9J"
      }
    },
    {
      "cell_type": "code",
      "execution_count": null,
      "metadata": {
        "colab": {
          "base_uri": "https://localhost:8080/"
        },
        "id": "62nST2JAe_a3",
        "outputId": "edb31c17-9ad1-4645-b3e7-b837c96afcfd"
      },
      "outputs": [
        {
          "output_type": "stream",
          "name": "stdout",
          "text": [
            "Model: \"model_1\"\n",
            "__________________________________________________________________________________________________\n",
            " Layer (type)                Output Shape                 Param #   Connected to                  \n",
            "==================================================================================================\n",
            " input_9 (InputLayer)        [(None, 32, 32, 3)]          0         []                            \n",
            "                                                                                                  \n",
            " rescaling_1 (Rescaling)     (None, 32, 32, 3)            0         ['input_9[0][0]']             \n",
            "                                                                                                  \n",
            " conv2d_30 (Conv2D)          (None, 32, 32, 32)           896       ['rescaling_1[0][0]']         \n",
            "                                                                                                  \n",
            " conv2d_31 (Conv2D)          (None, 32, 32, 32)           9248      ['conv2d_30[0][0]']           \n",
            "                                                                                                  \n",
            " max_pooling2d_6 (MaxPoolin  (None, 16, 16, 32)           0         ['conv2d_31[0][0]']           \n",
            " g2D)                                                                                             \n",
            "                                                                                                  \n",
            " conv2d_32 (Conv2D)          (None, 16, 16, 32)           128       ['rescaling_1[0][0]']         \n",
            "                                                                                                  \n",
            " add_10 (Add)                (None, 16, 16, 32)           0         ['max_pooling2d_6[0][0]',     \n",
            "                                                                     'conv2d_32[0][0]']           \n",
            "                                                                                                  \n",
            " conv2d_33 (Conv2D)          (None, 16, 16, 64)           18496     ['add_10[0][0]']              \n",
            "                                                                                                  \n",
            " conv2d_34 (Conv2D)          (None, 16, 16, 64)           36928     ['conv2d_33[0][0]']           \n",
            "                                                                                                  \n",
            " max_pooling2d_7 (MaxPoolin  (None, 8, 8, 64)             0         ['conv2d_34[0][0]']           \n",
            " g2D)                                                                                             \n",
            "                                                                                                  \n",
            " conv2d_35 (Conv2D)          (None, 8, 8, 64)             2112      ['add_10[0][0]']              \n",
            "                                                                                                  \n",
            " add_11 (Add)                (None, 8, 8, 64)             0         ['max_pooling2d_7[0][0]',     \n",
            "                                                                     'conv2d_35[0][0]']           \n",
            "                                                                                                  \n",
            " conv2d_36 (Conv2D)          (None, 8, 8, 128)            73856     ['add_11[0][0]']              \n",
            "                                                                                                  \n",
            " conv2d_37 (Conv2D)          (None, 8, 8, 128)            147584    ['conv2d_36[0][0]']           \n",
            "                                                                                                  \n",
            " conv2d_38 (Conv2D)          (None, 8, 8, 128)            8320      ['add_11[0][0]']              \n",
            "                                                                                                  \n",
            " add_12 (Add)                (None, 8, 8, 128)            0         ['conv2d_37[0][0]',           \n",
            "                                                                     'conv2d_38[0][0]']           \n",
            "                                                                                                  \n",
            " global_average_pooling2d_1  (None, 128)                  0         ['add_12[0][0]']              \n",
            "  (GlobalAveragePooling2D)                                                                        \n",
            "                                                                                                  \n",
            " dense_1 (Dense)             (None, 1)                    129       ['global_average_pooling2d_1[0\n",
            "                                                                    ][0]']                        \n",
            "                                                                                                  \n",
            "==================================================================================================\n",
            "Total params: 297697 (1.14 MB)\n",
            "Trainable params: 297697 (1.14 MB)\n",
            "Non-trainable params: 0 (0.00 Byte)\n",
            "__________________________________________________________________________________________________\n"
          ]
        }
      ],
      "source": [
        "inputs = keras.Input(shape=(32, 32, 3))\n",
        "x = layers.Rescaling(1./255)(inputs)\n",
        "\n",
        "# function to apply a convolutional block with a residual connection, with an option to add max pooling\n",
        "def residual_block(x, filters, pooling=False):\n",
        "    residual = x\n",
        "    x = layers.Conv2D(filters, 3, activation=\"relu\", padding=\"same\")(x)\n",
        "    x = layers.Conv2D(filters, 3, activation=\"relu\", padding=\"same\")(x)\n",
        "\n",
        "    # If we use max pooling, we add a strided convolution to project the residual to the expected shape\n",
        "    if pooling:\n",
        "        x = layers.MaxPooling2D(2, padding=\"same\")(x)\n",
        "        residual = layers.Conv2D(filters, 1, strides=2)(residual)\n",
        "    # If we don’t use max pooling, we only project the residual if the number of channels has changed.\n",
        "    elif filters != residual.shape[-1]:\n",
        "        residual = layers.Conv2D(filters, 1)(residual)\n",
        "    x = layers.add([x, residual])\n",
        "    return x\n",
        "\n",
        "x = residual_block(x, filters=32, pooling=True)\n",
        "x = residual_block(x, filters=64, pooling=True)\n",
        "# The last block doesn’t need a max in each block pooling layer,\n",
        "# since we will apply global average pooling right after it\n",
        "x = residual_block(x, filters=128, pooling=False)\n",
        "\n",
        "x = layers.GlobalAveragePooling2D()(x)\n",
        "outputs = layers.Dense(1, activation=\"sigmoid\")(x)\n",
        "model = keras.Model(inputs=inputs, outputs=outputs)\n",
        "model.summary()"
      ]
    },
    {
      "cell_type": "markdown",
      "metadata": {
        "id": "0jdSAwOfe_a4"
      },
      "source": [
        "### Batch normalization"
      ]
    },
    {
      "cell_type": "markdown",
      "source": [
        "The most common form of data normalization is that it makes the assumption that the data follows a normal (or Gaussian) distribution and makes sure this distribution is centered and scaled to unit variance"
      ],
      "metadata": {
        "id": "Gfkk-EEMlEFs"
      }
    },
    {
      "cell_type": "markdown",
      "source": [
        "**Batch normalization** can adaptively normalize data even as the mean and variance change over time during training.\n",
        "* During training, it uses the mean and variance of the current batch of data to normalize samples\n",
        "* During inference (when a big enough batch of representative data may not be available), it uses an exponential moving average of the batch-wise mean and variance of the data seen during training."
      ],
      "metadata": {
        "id": "KMzMdIiD-R5s"
      }
    },
    {
      "cell_type": "code",
      "source": [
        "# How NOT to use batch normalization\n",
        "x = layers.Conv2D(32, 3, activation=\"relu\")(x)\n",
        "x = layers.BatchNormalization()(x)"
      ],
      "metadata": {
        "id": "4TX4w6kzlPNY"
      },
      "execution_count": null,
      "outputs": []
    },
    {
      "cell_type": "markdown",
      "source": [
        "The intuitive reason for this approach is that batch normalization will center your inputs on zero, while your relu activation uses zero as a pivot for keeping or dropping activated channels: doing normalization before the activation maximizes the utilization of the relu."
      ],
      "metadata": {
        "id": "aMrDZapwlgRA"
      }
    },
    {
      "cell_type": "code",
      "source": [
        "# How to use batch normalization: the activation comes last\n",
        "\n",
        "x = layers.Conv2D(32, 3, use_bias=False)(x)\n",
        "#  batch normalization will center inputs on zero\n",
        "x = layers.BatchNormalization()(x)\n",
        "# \"relu\" activation uses zero as a pivot for keeping or dropping activated channels\n",
        "x = layers.Activation(\"relu\")(x)"
      ],
      "metadata": {
        "id": "EU3YnlSMlWxp"
      },
      "execution_count": null,
      "outputs": []
    },
    {
      "cell_type": "markdown",
      "metadata": {
        "id": "_nuPRMK-e_a4"
      },
      "source": [
        "### Depthwise separable convolutions"
      ]
    },
    {
      "cell_type": "markdown",
      "source": [
        "This layer performs a spatial convolution on each channel of its input, independently, before mixing output channels via a pointwise convolution (a 1 × 1 convolution)\n",
        "\n",
        "In much the same way that convolution relies on the assumption that the patterns in images are not tied to specific locations,\n",
        "\n",
        "*Depthwise separable convolution* relies on the assumption that spatial locations in intermediate activations are highly correlated, but different channels are highly independent. Because this assumption is generally true for the image representations learned by deep neural networks, it serves as a useful prior that helps the model make more efficient use of its training data.\n",
        "\n",
        "Advantages:\n",
        "* Depthwise separable convolution requires significantly fewer parameters and involves fewer computations compared to regular convolution, while having comparable representational power.\n",
        "* It results in smaller models that converge faster and are less prone to overfitting.\n",
        "* These advantages become especially important when you’re training small models from scratch on limited data."
      ],
      "metadata": {
        "id": "oT_rnKQS7iMu"
      }
    },
    {
      "cell_type": "markdown",
      "metadata": {
        "id": "sljYD-h1e_a4"
      },
      "source": [
        "### Putting it together: A mini Xception-like model"
      ]
    },
    {
      "cell_type": "code",
      "execution_count": null,
      "metadata": {
        "id": "-mmLwHH1e_a5"
      },
      "outputs": [],
      "source": [
        "from google.colab import files\n",
        "files.upload()"
      ]
    },
    {
      "cell_type": "markdown",
      "source": [
        "**Download data from kaggle - cats vs dogs**"
      ],
      "metadata": {
        "id": "hR8AfoX7xwaw"
      }
    },
    {
      "cell_type": "code",
      "execution_count": null,
      "metadata": {
        "colab": {
          "base_uri": "https://localhost:8080/"
        },
        "id": "sBuBvDs6e_a5",
        "outputId": "a5bd6065-e460-440b-fe7b-2d86e7ab4c81"
      },
      "outputs": [
        {
          "output_type": "stream",
          "name": "stdout",
          "text": [
            "mkdir: cannot create directory ‘/root/.kaggle’: File exists\n",
            "dogs-vs-cats.zip: Skipping, found more recently modified local copy (use --force to force download)\n"
          ]
        }
      ],
      "source": [
        "!mkdir ~/.kaggle\n",
        "!cp kaggle.json ~/.kaggle/\n",
        "!chmod 600 ~/.kaggle/kaggle.json\n",
        "!kaggle competitions download -c dogs-vs-cats\n"
      ]
    },
    {
      "cell_type": "code",
      "source": [
        "!unzip -qq dogs-vs-cats.zip\n",
        "!unzip -qq train.zip"
      ],
      "metadata": {
        "id": "y0NAfe6rx9mS"
      },
      "execution_count": null,
      "outputs": []
    },
    {
      "cell_type": "markdown",
      "source": [
        "**Data preprocessing**"
      ],
      "metadata": {
        "id": "fveVEp-oxk7g"
      }
    },
    {
      "cell_type": "code",
      "execution_count": null,
      "metadata": {
        "colab": {
          "base_uri": "https://localhost:8080/"
        },
        "id": "uwN4OLZ4e_a6",
        "outputId": "cdf14141-c54b-4e2c-d40c-b113e1955715"
      },
      "outputs": [
        {
          "output_type": "stream",
          "name": "stdout",
          "text": [
            "Found 2000 files belonging to 2 classes.\n",
            "Found 1000 files belonging to 2 classes.\n",
            "Found 2000 files belonging to 2 classes.\n"
          ]
        }
      ],
      "source": [
        "import os, shutil, pathlib\n",
        "from tensorflow.keras.utils import image_dataset_from_directory\n",
        "\n",
        "original_dir = pathlib.Path(\"train\")\n",
        "new_base_dir = pathlib.Path(\"cats_vs_dogs_small\")\n",
        "\n",
        "def make_subset(subset_name, start_index, end_index):\n",
        "    for category in (\"cat\", \"dog\"):\n",
        "        dir = new_base_dir / subset_name / category\n",
        "        os.makedirs(dir)\n",
        "        fnames = [f\"{category}.{i}.jpg\" for i in range(start_index, end_index)]\n",
        "        for fname in fnames:\n",
        "            shutil.copyfile(src=original_dir / fname,\n",
        "                            dst=dir / fname)\n",
        "\n",
        "make_subset(\"train\", start_index=0, end_index=1000)\n",
        "make_subset(\"validation\", start_index=1000, end_index=1500)\n",
        "make_subset(\"test\", start_index=1500, end_index=2500)\n",
        "\n",
        "train_dataset = image_dataset_from_directory(\n",
        "    new_base_dir / \"train\",\n",
        "    image_size=(180, 180),\n",
        "    batch_size=32)\n",
        "validation_dataset = image_dataset_from_directory(\n",
        "    new_base_dir / \"validation\",\n",
        "    image_size=(180, 180),\n",
        "    batch_size=32)\n",
        "test_dataset = image_dataset_from_directory(\n",
        "    new_base_dir / \"test\",\n",
        "    image_size=(180, 180),\n",
        "    batch_size=32)"
      ]
    },
    {
      "cell_type": "code",
      "execution_count": null,
      "metadata": {
        "id": "E1Hb6Gf9e_a6"
      },
      "outputs": [],
      "source": [
        "from tensorflow import keras\n",
        "from keras import layers\n",
        "data_augmentation = keras.Sequential(\n",
        "    [\n",
        "        layers.RandomFlip(\"horizontal\"),\n",
        "        layers.RandomRotation(0.1),\n",
        "        layers.RandomZoom(0.2),\n",
        "    ]\n",
        ")"
      ]
    },
    {
      "cell_type": "code",
      "execution_count": null,
      "metadata": {
        "id": "qzaVejJ_e_a6"
      },
      "outputs": [],
      "source": [
        "# Train a new model on cats vs dogs data for image classification\n",
        "\n",
        "inputs = keras.Input(shape=(180, 180, 3))\n",
        "x = data_augmentation(inputs)\n",
        "\n",
        "# scaling the data\n",
        "x = layers.Rescaling(1./255)(x)\n",
        "x = layers.Conv2D(filters=32, kernel_size=5, use_bias=False)(x)\n",
        "\n",
        "# train on different filter size\n",
        "for size in [32, 64, 128, 256, 512]:\n",
        "    residual = x\n",
        "\n",
        "    # modified layers\n",
        "    x = layers.BatchNormalization()(x)\n",
        "    x = layers.Activation(\"relu\")(x)\n",
        "    x = layers.SeparableConv2D(size, 3, padding=\"same\", use_bias=False)(x)\n",
        "\n",
        "    x = layers.BatchNormalization()(x)\n",
        "    x = layers.Activation(\"relu\")(x)\n",
        "    x = layers.SeparableConv2D(size, 3, padding=\"same\", use_bias=False)(x)\n",
        "\n",
        "    x = layers.MaxPooling2D(3, strides=2, padding=\"same\")(x)\n",
        "\n",
        "    residual = layers.Conv2D(\n",
        "        size, 1, strides=2, padding=\"same\", use_bias=False)(residual)\n",
        "    x = layers.add([x, residual])\n",
        "\n",
        "x = layers.GlobalAveragePooling2D()(x)\n",
        "x = layers.Dropout(0.5)(x)\n",
        "outputs = layers.Dense(1, activation=\"sigmoid\")(x)\n",
        "model = keras.Model(inputs=inputs, outputs=outputs)"
      ]
    },
    {
      "cell_type": "code",
      "source": [
        "model.summary()"
      ],
      "metadata": {
        "colab": {
          "base_uri": "https://localhost:8080/"
        },
        "id": "u6RSxC1T0L6x",
        "outputId": "b2baf7b4-282c-47a0-d3ad-eb61fe8c8299"
      },
      "execution_count": null,
      "outputs": [
        {
          "output_type": "stream",
          "name": "stdout",
          "text": [
            "Model: \"model_1\"\n",
            "__________________________________________________________________________________________________\n",
            " Layer (type)                Output Shape                 Param #   Connected to                  \n",
            "==================================================================================================\n",
            " input_2 (InputLayer)        [(None, 180, 180, 3)]        0         []                            \n",
            "                                                                                                  \n",
            " sequential (Sequential)     (None, 180, 180, 3)          0         ['input_2[0][0]']             \n",
            "                                                                                                  \n",
            " rescaling_1 (Rescaling)     (None, 180, 180, 3)          0         ['sequential[1][0]']          \n",
            "                                                                                                  \n",
            " conv2d_6 (Conv2D)           (None, 176, 176, 32)         2400      ['rescaling_1[0][0]']         \n",
            "                                                                                                  \n",
            " batch_normalization_10 (Ba  (None, 176, 176, 32)         128       ['conv2d_6[0][0]']            \n",
            " tchNormalization)                                                                                \n",
            "                                                                                                  \n",
            " activation_10 (Activation)  (None, 176, 176, 32)         0         ['batch_normalization_10[0][0]\n",
            "                                                                    ']                            \n",
            "                                                                                                  \n",
            " separable_conv2d_10 (Separ  (None, 176, 176, 32)         1312      ['activation_10[0][0]']       \n",
            " ableConv2D)                                                                                      \n",
            "                                                                                                  \n",
            " batch_normalization_11 (Ba  (None, 176, 176, 32)         128       ['separable_conv2d_10[0][0]'] \n",
            " tchNormalization)                                                                                \n",
            "                                                                                                  \n",
            " activation_11 (Activation)  (None, 176, 176, 32)         0         ['batch_normalization_11[0][0]\n",
            "                                                                    ']                            \n",
            "                                                                                                  \n",
            " separable_conv2d_11 (Separ  (None, 176, 176, 32)         1312      ['activation_11[0][0]']       \n",
            " ableConv2D)                                                                                      \n",
            "                                                                                                  \n",
            " max_pooling2d_5 (MaxPoolin  (None, 88, 88, 32)           0         ['separable_conv2d_11[0][0]'] \n",
            " g2D)                                                                                             \n",
            "                                                                                                  \n",
            " conv2d_7 (Conv2D)           (None, 88, 88, 32)           1024      ['conv2d_6[0][0]']            \n",
            "                                                                                                  \n",
            " add_5 (Add)                 (None, 88, 88, 32)           0         ['max_pooling2d_5[0][0]',     \n",
            "                                                                     'conv2d_7[0][0]']            \n",
            "                                                                                                  \n",
            " batch_normalization_12 (Ba  (None, 88, 88, 32)           128       ['add_5[0][0]']               \n",
            " tchNormalization)                                                                                \n",
            "                                                                                                  \n",
            " activation_12 (Activation)  (None, 88, 88, 32)           0         ['batch_normalization_12[0][0]\n",
            "                                                                    ']                            \n",
            "                                                                                                  \n",
            " separable_conv2d_12 (Separ  (None, 88, 88, 64)           2336      ['activation_12[0][0]']       \n",
            " ableConv2D)                                                                                      \n",
            "                                                                                                  \n",
            " batch_normalization_13 (Ba  (None, 88, 88, 64)           256       ['separable_conv2d_12[0][0]'] \n",
            " tchNormalization)                                                                                \n",
            "                                                                                                  \n",
            " activation_13 (Activation)  (None, 88, 88, 64)           0         ['batch_normalization_13[0][0]\n",
            "                                                                    ']                            \n",
            "                                                                                                  \n",
            " separable_conv2d_13 (Separ  (None, 88, 88, 64)           4672      ['activation_13[0][0]']       \n",
            " ableConv2D)                                                                                      \n",
            "                                                                                                  \n",
            " max_pooling2d_6 (MaxPoolin  (None, 44, 44, 64)           0         ['separable_conv2d_13[0][0]'] \n",
            " g2D)                                                                                             \n",
            "                                                                                                  \n",
            " conv2d_8 (Conv2D)           (None, 44, 44, 64)           2048      ['add_5[0][0]']               \n",
            "                                                                                                  \n",
            " add_6 (Add)                 (None, 44, 44, 64)           0         ['max_pooling2d_6[0][0]',     \n",
            "                                                                     'conv2d_8[0][0]']            \n",
            "                                                                                                  \n",
            " batch_normalization_14 (Ba  (None, 44, 44, 64)           256       ['add_6[0][0]']               \n",
            " tchNormalization)                                                                                \n",
            "                                                                                                  \n",
            " activation_14 (Activation)  (None, 44, 44, 64)           0         ['batch_normalization_14[0][0]\n",
            "                                                                    ']                            \n",
            "                                                                                                  \n",
            " separable_conv2d_14 (Separ  (None, 44, 44, 128)          8768      ['activation_14[0][0]']       \n",
            " ableConv2D)                                                                                      \n",
            "                                                                                                  \n",
            " batch_normalization_15 (Ba  (None, 44, 44, 128)          512       ['separable_conv2d_14[0][0]'] \n",
            " tchNormalization)                                                                                \n",
            "                                                                                                  \n",
            " activation_15 (Activation)  (None, 44, 44, 128)          0         ['batch_normalization_15[0][0]\n",
            "                                                                    ']                            \n",
            "                                                                                                  \n",
            " separable_conv2d_15 (Separ  (None, 44, 44, 128)          17536     ['activation_15[0][0]']       \n",
            " ableConv2D)                                                                                      \n",
            "                                                                                                  \n",
            " max_pooling2d_7 (MaxPoolin  (None, 22, 22, 128)          0         ['separable_conv2d_15[0][0]'] \n",
            " g2D)                                                                                             \n",
            "                                                                                                  \n",
            " conv2d_9 (Conv2D)           (None, 22, 22, 128)          8192      ['add_6[0][0]']               \n",
            "                                                                                                  \n",
            " add_7 (Add)                 (None, 22, 22, 128)          0         ['max_pooling2d_7[0][0]',     \n",
            "                                                                     'conv2d_9[0][0]']            \n",
            "                                                                                                  \n",
            " batch_normalization_16 (Ba  (None, 22, 22, 128)          512       ['add_7[0][0]']               \n",
            " tchNormalization)                                                                                \n",
            "                                                                                                  \n",
            " activation_16 (Activation)  (None, 22, 22, 128)          0         ['batch_normalization_16[0][0]\n",
            "                                                                    ']                            \n",
            "                                                                                                  \n",
            " separable_conv2d_16 (Separ  (None, 22, 22, 256)          33920     ['activation_16[0][0]']       \n",
            " ableConv2D)                                                                                      \n",
            "                                                                                                  \n",
            " batch_normalization_17 (Ba  (None, 22, 22, 256)          1024      ['separable_conv2d_16[0][0]'] \n",
            " tchNormalization)                                                                                \n",
            "                                                                                                  \n",
            " activation_17 (Activation)  (None, 22, 22, 256)          0         ['batch_normalization_17[0][0]\n",
            "                                                                    ']                            \n",
            "                                                                                                  \n",
            " separable_conv2d_17 (Separ  (None, 22, 22, 256)          67840     ['activation_17[0][0]']       \n",
            " ableConv2D)                                                                                      \n",
            "                                                                                                  \n",
            " max_pooling2d_8 (MaxPoolin  (None, 11, 11, 256)          0         ['separable_conv2d_17[0][0]'] \n",
            " g2D)                                                                                             \n",
            "                                                                                                  \n",
            " conv2d_10 (Conv2D)          (None, 11, 11, 256)          32768     ['add_7[0][0]']               \n",
            "                                                                                                  \n",
            " add_8 (Add)                 (None, 11, 11, 256)          0         ['max_pooling2d_8[0][0]',     \n",
            "                                                                     'conv2d_10[0][0]']           \n",
            "                                                                                                  \n",
            " batch_normalization_18 (Ba  (None, 11, 11, 256)          1024      ['add_8[0][0]']               \n",
            " tchNormalization)                                                                                \n",
            "                                                                                                  \n",
            " activation_18 (Activation)  (None, 11, 11, 256)          0         ['batch_normalization_18[0][0]\n",
            "                                                                    ']                            \n",
            "                                                                                                  \n",
            " separable_conv2d_18 (Separ  (None, 11, 11, 512)          133376    ['activation_18[0][0]']       \n",
            " ableConv2D)                                                                                      \n",
            "                                                                                                  \n",
            " batch_normalization_19 (Ba  (None, 11, 11, 512)          2048      ['separable_conv2d_18[0][0]'] \n",
            " tchNormalization)                                                                                \n",
            "                                                                                                  \n",
            " activation_19 (Activation)  (None, 11, 11, 512)          0         ['batch_normalization_19[0][0]\n",
            "                                                                    ']                            \n",
            "                                                                                                  \n",
            " separable_conv2d_19 (Separ  (None, 11, 11, 512)          266752    ['activation_19[0][0]']       \n",
            " ableConv2D)                                                                                      \n",
            "                                                                                                  \n",
            " max_pooling2d_9 (MaxPoolin  (None, 6, 6, 512)            0         ['separable_conv2d_19[0][0]'] \n",
            " g2D)                                                                                             \n",
            "                                                                                                  \n",
            " conv2d_11 (Conv2D)          (None, 6, 6, 512)            131072    ['add_8[0][0]']               \n",
            "                                                                                                  \n",
            " add_9 (Add)                 (None, 6, 6, 512)            0         ['max_pooling2d_9[0][0]',     \n",
            "                                                                     'conv2d_11[0][0]']           \n",
            "                                                                                                  \n",
            " global_average_pooling2d_1  (None, 512)                  0         ['add_9[0][0]']               \n",
            "  (GlobalAveragePooling2D)                                                                        \n",
            "                                                                                                  \n",
            " dropout_1 (Dropout)         (None, 512)                  0         ['global_average_pooling2d_1[0\n",
            "                                                                    ][0]']                        \n",
            "                                                                                                  \n",
            " dense_1 (Dense)             (None, 1)                    513       ['dropout_1[0][0]']           \n",
            "                                                                                                  \n",
            "==================================================================================================\n",
            "Total params: 721857 (2.75 MB)\n",
            "Trainable params: 718849 (2.74 MB)\n",
            "Non-trainable params: 3008 (11.75 KB)\n",
            "__________________________________________________________________________________________________\n"
          ]
        }
      ]
    },
    {
      "cell_type": "code",
      "execution_count": null,
      "metadata": {
        "colab": {
          "base_uri": "https://localhost:8080/"
        },
        "id": "JamLotFGe_a7",
        "outputId": "8c4012e2-0f5e-43c1-9af8-294122fcfa38"
      },
      "outputs": [
        {
          "output_type": "stream",
          "name": "stdout",
          "text": [
            "Epoch 1/100\n",
            "63/63 [==============================] - 25s 195ms/step - loss: 0.6978 - accuracy: 0.5680 - val_loss: 0.6931 - val_accuracy: 0.5000\n",
            "Epoch 2/100\n",
            "63/63 [==============================] - 9s 138ms/step - loss: 0.6674 - accuracy: 0.6080 - val_loss: 0.6932 - val_accuracy: 0.5000\n",
            "Epoch 3/100\n",
            "63/63 [==============================] - 9s 141ms/step - loss: 0.6440 - accuracy: 0.6245 - val_loss: 0.6993 - val_accuracy: 0.5000\n",
            "Epoch 4/100\n",
            "63/63 [==============================] - 9s 144ms/step - loss: 0.6396 - accuracy: 0.6350 - val_loss: 0.6969 - val_accuracy: 0.5000\n",
            "Epoch 5/100\n",
            "63/63 [==============================] - 10s 153ms/step - loss: 0.6169 - accuracy: 0.6645 - val_loss: 0.6923 - val_accuracy: 0.5170\n",
            "Epoch 6/100\n",
            "63/63 [==============================] - 9s 139ms/step - loss: 0.6149 - accuracy: 0.6585 - val_loss: 0.7587 - val_accuracy: 0.5020\n",
            "Epoch 7/100\n",
            "63/63 [==============================] - 9s 144ms/step - loss: 0.6059 - accuracy: 0.6845 - val_loss: 0.7555 - val_accuracy: 0.5030\n",
            "Epoch 8/100\n",
            "63/63 [==============================] - 9s 147ms/step - loss: 0.5754 - accuracy: 0.7125 - val_loss: 0.7325 - val_accuracy: 0.5250\n",
            "Epoch 9/100\n",
            "63/63 [==============================] - 10s 161ms/step - loss: 0.5668 - accuracy: 0.7070 - val_loss: 0.5728 - val_accuracy: 0.7020\n",
            "Epoch 10/100\n",
            "63/63 [==============================] - 9s 141ms/step - loss: 0.5455 - accuracy: 0.7405 - val_loss: 0.8436 - val_accuracy: 0.5810\n",
            "Epoch 11/100\n",
            "63/63 [==============================] - 9s 143ms/step - loss: 0.5470 - accuracy: 0.7300 - val_loss: 0.6162 - val_accuracy: 0.6560\n",
            "Epoch 12/100\n",
            "63/63 [==============================] - 10s 148ms/step - loss: 0.4989 - accuracy: 0.7780 - val_loss: 0.6515 - val_accuracy: 0.7030\n",
            "Epoch 13/100\n",
            "63/63 [==============================] - 9s 143ms/step - loss: 0.5013 - accuracy: 0.7590 - val_loss: 1.1663 - val_accuracy: 0.5120\n",
            "Epoch 14/100\n",
            "63/63 [==============================] - 9s 140ms/step - loss: 0.4978 - accuracy: 0.7595 - val_loss: 0.5071 - val_accuracy: 0.7480\n",
            "Epoch 15/100\n",
            "63/63 [==============================] - 9s 143ms/step - loss: 0.4851 - accuracy: 0.7685 - val_loss: 0.7753 - val_accuracy: 0.6310\n",
            "Epoch 16/100\n",
            "63/63 [==============================] - 9s 144ms/step - loss: 0.4418 - accuracy: 0.7950 - val_loss: 1.2970 - val_accuracy: 0.5090\n",
            "Epoch 17/100\n",
            "63/63 [==============================] - 10s 161ms/step - loss: 0.4487 - accuracy: 0.8045 - val_loss: 0.7403 - val_accuracy: 0.6520\n",
            "Epoch 18/100\n",
            "63/63 [==============================] - 9s 139ms/step - loss: 0.4367 - accuracy: 0.8090 - val_loss: 0.5792 - val_accuracy: 0.7300\n",
            "Epoch 19/100\n",
            "63/63 [==============================] - 9s 141ms/step - loss: 0.4282 - accuracy: 0.8065 - val_loss: 0.5067 - val_accuracy: 0.7310\n",
            "Epoch 20/100\n",
            "63/63 [==============================] - 9s 145ms/step - loss: 0.4178 - accuracy: 0.8105 - val_loss: 0.6620 - val_accuracy: 0.6980\n",
            "Epoch 21/100\n",
            "63/63 [==============================] - 10s 162ms/step - loss: 0.4240 - accuracy: 0.8170 - val_loss: 0.4411 - val_accuracy: 0.7910\n",
            "Epoch 22/100\n",
            "63/63 [==============================] - 9s 142ms/step - loss: 0.3925 - accuracy: 0.8230 - val_loss: 0.7640 - val_accuracy: 0.6740\n",
            "Epoch 23/100\n",
            "63/63 [==============================] - 9s 144ms/step - loss: 0.3986 - accuracy: 0.8260 - val_loss: 0.4662 - val_accuracy: 0.7790\n",
            "Epoch 24/100\n",
            "63/63 [==============================] - 9s 143ms/step - loss: 0.3855 - accuracy: 0.8290 - val_loss: 0.4617 - val_accuracy: 0.7860\n",
            "Epoch 25/100\n",
            "63/63 [==============================] - 10s 161ms/step - loss: 0.3633 - accuracy: 0.8385 - val_loss: 0.6499 - val_accuracy: 0.6900\n",
            "Epoch 26/100\n",
            "63/63 [==============================] - 14s 217ms/step - loss: 0.3597 - accuracy: 0.8425 - val_loss: 0.5531 - val_accuracy: 0.7280\n",
            "Epoch 27/100\n",
            "63/63 [==============================] - 11s 168ms/step - loss: 0.3604 - accuracy: 0.8370 - val_loss: 0.6557 - val_accuracy: 0.6770\n",
            "Epoch 28/100\n",
            "63/63 [==============================] - 9s 143ms/step - loss: 0.3407 - accuracy: 0.8480 - val_loss: 1.3995 - val_accuracy: 0.5830\n",
            "Epoch 29/100\n",
            "63/63 [==============================] - 9s 145ms/step - loss: 0.3482 - accuracy: 0.8490 - val_loss: 0.8862 - val_accuracy: 0.6880\n",
            "Epoch 30/100\n",
            "63/63 [==============================] - 9s 141ms/step - loss: 0.3134 - accuracy: 0.8690 - val_loss: 1.6281 - val_accuracy: 0.6090\n",
            "Epoch 31/100\n",
            "63/63 [==============================] - 9s 141ms/step - loss: 0.3345 - accuracy: 0.8595 - val_loss: 0.5709 - val_accuracy: 0.7910\n",
            "Epoch 32/100\n",
            "63/63 [==============================] - 9s 144ms/step - loss: 0.3149 - accuracy: 0.8655 - val_loss: 0.5108 - val_accuracy: 0.7890\n",
            "Epoch 33/100\n",
            "63/63 [==============================] - 9s 146ms/step - loss: 0.3078 - accuracy: 0.8630 - val_loss: 0.5785 - val_accuracy: 0.7710\n",
            "Epoch 34/100\n",
            "63/63 [==============================] - 9s 140ms/step - loss: 0.3014 - accuracy: 0.8760 - val_loss: 0.5159 - val_accuracy: 0.7660\n",
            "Epoch 35/100\n",
            "63/63 [==============================] - 9s 143ms/step - loss: 0.2933 - accuracy: 0.8810 - val_loss: 1.0555 - val_accuracy: 0.6240\n",
            "Epoch 36/100\n",
            "63/63 [==============================] - 10s 146ms/step - loss: 0.2783 - accuracy: 0.8880 - val_loss: 0.9228 - val_accuracy: 0.7110\n",
            "Epoch 37/100\n",
            "63/63 [==============================] - 10s 150ms/step - loss: 0.2904 - accuracy: 0.8710 - val_loss: 0.3916 - val_accuracy: 0.8260\n",
            "Epoch 38/100\n",
            "63/63 [==============================] - 9s 140ms/step - loss: 0.2787 - accuracy: 0.8895 - val_loss: 0.7653 - val_accuracy: 0.6300\n",
            "Epoch 39/100\n",
            "63/63 [==============================] - 10s 146ms/step - loss: 0.2812 - accuracy: 0.8830 - val_loss: 0.5679 - val_accuracy: 0.7580\n",
            "Epoch 40/100\n",
            "63/63 [==============================] - 9s 144ms/step - loss: 0.2538 - accuracy: 0.8875 - val_loss: 0.6595 - val_accuracy: 0.7410\n",
            "Epoch 41/100\n",
            "63/63 [==============================] - 10s 156ms/step - loss: 0.2583 - accuracy: 0.8870 - val_loss: 0.5076 - val_accuracy: 0.8000\n",
            "Epoch 42/100\n",
            "63/63 [==============================] - 9s 140ms/step - loss: 0.2541 - accuracy: 0.9010 - val_loss: 0.8648 - val_accuracy: 0.7080\n",
            "Epoch 43/100\n",
            "63/63 [==============================] - 9s 142ms/step - loss: 0.2607 - accuracy: 0.8850 - val_loss: 0.4498 - val_accuracy: 0.8120\n",
            "Epoch 44/100\n",
            "63/63 [==============================] - 9s 144ms/step - loss: 0.2273 - accuracy: 0.9050 - val_loss: 0.3957 - val_accuracy: 0.8390\n",
            "Epoch 45/100\n",
            "63/63 [==============================] - 10s 150ms/step - loss: 0.2551 - accuracy: 0.8965 - val_loss: 0.6493 - val_accuracy: 0.6790\n",
            "Epoch 46/100\n",
            "63/63 [==============================] - 9s 142ms/step - loss: 0.2347 - accuracy: 0.8995 - val_loss: 0.5082 - val_accuracy: 0.7590\n",
            "Epoch 47/100\n",
            "63/63 [==============================] - 9s 140ms/step - loss: 0.2198 - accuracy: 0.9100 - val_loss: 0.6084 - val_accuracy: 0.7370\n",
            "Epoch 48/100\n",
            "63/63 [==============================] - 9s 145ms/step - loss: 0.2320 - accuracy: 0.9075 - val_loss: 0.3747 - val_accuracy: 0.8410\n",
            "Epoch 49/100\n",
            "63/63 [==============================] - 9s 142ms/step - loss: 0.2200 - accuracy: 0.9130 - val_loss: 0.8951 - val_accuracy: 0.7630\n",
            "Epoch 50/100\n",
            "63/63 [==============================] - 9s 140ms/step - loss: 0.2120 - accuracy: 0.9150 - val_loss: 1.3741 - val_accuracy: 0.6450\n",
            "Epoch 51/100\n",
            "63/63 [==============================] - 9s 143ms/step - loss: 0.2044 - accuracy: 0.9155 - val_loss: 1.1800 - val_accuracy: 0.5820\n",
            "Epoch 52/100\n",
            "63/63 [==============================] - 9s 143ms/step - loss: 0.2139 - accuracy: 0.9125 - val_loss: 0.7167 - val_accuracy: 0.7040\n",
            "Epoch 53/100\n",
            "63/63 [==============================] - 10s 161ms/step - loss: 0.1910 - accuracy: 0.9220 - val_loss: 0.7308 - val_accuracy: 0.7460\n",
            "Epoch 54/100\n",
            "63/63 [==============================] - 9s 141ms/step - loss: 0.2066 - accuracy: 0.9170 - val_loss: 0.3017 - val_accuracy: 0.8730\n",
            "Epoch 55/100\n",
            "63/63 [==============================] - 9s 144ms/step - loss: 0.1806 - accuracy: 0.9260 - val_loss: 0.3605 - val_accuracy: 0.8640\n",
            "Epoch 56/100\n",
            "63/63 [==============================] - 9s 146ms/step - loss: 0.1717 - accuracy: 0.9360 - val_loss: 0.4379 - val_accuracy: 0.8520\n",
            "Epoch 57/100\n",
            "63/63 [==============================] - 10s 151ms/step - loss: 0.1936 - accuracy: 0.9180 - val_loss: 0.6957 - val_accuracy: 0.7840\n",
            "Epoch 58/100\n",
            "63/63 [==============================] - 9s 140ms/step - loss: 0.1853 - accuracy: 0.9195 - val_loss: 0.5928 - val_accuracy: 0.8110\n",
            "Epoch 59/100\n",
            "63/63 [==============================] - 9s 144ms/step - loss: 0.1662 - accuracy: 0.9280 - val_loss: 0.4362 - val_accuracy: 0.8310\n",
            "Epoch 60/100\n",
            "63/63 [==============================] - 9s 145ms/step - loss: 0.1845 - accuracy: 0.9350 - val_loss: 0.5383 - val_accuracy: 0.8220\n",
            "Epoch 61/100\n",
            "63/63 [==============================] - 10s 151ms/step - loss: 0.1800 - accuracy: 0.9270 - val_loss: 0.3597 - val_accuracy: 0.8340\n",
            "Epoch 62/100\n",
            "63/63 [==============================] - 9s 141ms/step - loss: 0.1799 - accuracy: 0.9265 - val_loss: 0.4577 - val_accuracy: 0.8130\n",
            "Epoch 63/100\n",
            "63/63 [==============================] - 10s 148ms/step - loss: 0.1538 - accuracy: 0.9470 - val_loss: 0.4763 - val_accuracy: 0.8290\n",
            "Epoch 64/100\n",
            "63/63 [==============================] - 9s 145ms/step - loss: 0.1752 - accuracy: 0.9215 - val_loss: 1.2115 - val_accuracy: 0.6810\n",
            "Epoch 65/100\n",
            "63/63 [==============================] - 10s 151ms/step - loss: 0.1635 - accuracy: 0.9325 - val_loss: 0.3478 - val_accuracy: 0.8620\n",
            "Epoch 66/100\n",
            "63/63 [==============================] - 9s 141ms/step - loss: 0.1307 - accuracy: 0.9485 - val_loss: 2.5957 - val_accuracy: 0.5730\n",
            "Epoch 67/100\n",
            "63/63 [==============================] - 9s 142ms/step - loss: 0.1690 - accuracy: 0.9295 - val_loss: 0.3341 - val_accuracy: 0.8620\n",
            "Epoch 68/100\n",
            "63/63 [==============================] - 11s 165ms/step - loss: 0.1328 - accuracy: 0.9440 - val_loss: 0.7856 - val_accuracy: 0.7690\n",
            "Epoch 69/100\n",
            "63/63 [==============================] - 9s 144ms/step - loss: 0.1574 - accuracy: 0.9385 - val_loss: 0.9432 - val_accuracy: 0.7370\n",
            "Epoch 70/100\n",
            "63/63 [==============================] - 10s 161ms/step - loss: 0.1409 - accuracy: 0.9460 - val_loss: 0.3292 - val_accuracy: 0.8780\n",
            "Epoch 71/100\n",
            "63/63 [==============================] - 9s 140ms/step - loss: 0.1748 - accuracy: 0.9290 - val_loss: 0.6029 - val_accuracy: 0.8390\n",
            "Epoch 72/100\n",
            "63/63 [==============================] - 9s 144ms/step - loss: 0.1750 - accuracy: 0.9330 - val_loss: 0.4367 - val_accuracy: 0.8430\n",
            "Epoch 73/100\n",
            "63/63 [==============================] - 9s 143ms/step - loss: 0.1393 - accuracy: 0.9460 - val_loss: 0.5628 - val_accuracy: 0.8080\n",
            "Epoch 74/100\n",
            "63/63 [==============================] - 10s 161ms/step - loss: 0.1440 - accuracy: 0.9390 - val_loss: 0.7039 - val_accuracy: 0.7560\n",
            "Epoch 75/100\n",
            "63/63 [==============================] - 10s 144ms/step - loss: 0.1272 - accuracy: 0.9545 - val_loss: 0.6680 - val_accuracy: 0.8230\n",
            "Epoch 76/100\n",
            "63/63 [==============================] - 9s 144ms/step - loss: 0.1385 - accuracy: 0.9355 - val_loss: 0.4051 - val_accuracy: 0.8460\n",
            "Epoch 77/100\n",
            "63/63 [==============================] - 10s 148ms/step - loss: 0.1395 - accuracy: 0.9455 - val_loss: 0.3292 - val_accuracy: 0.8880\n",
            "Epoch 78/100\n",
            "63/63 [==============================] - 10s 162ms/step - loss: 0.1373 - accuracy: 0.9505 - val_loss: 0.4456 - val_accuracy: 0.8350\n",
            "Epoch 79/100\n",
            "63/63 [==============================] - 9s 143ms/step - loss: 0.1490 - accuracy: 0.9435 - val_loss: 0.5848 - val_accuracy: 0.8090\n",
            "Epoch 80/100\n",
            "63/63 [==============================] - 9s 144ms/step - loss: 0.1192 - accuracy: 0.9525 - val_loss: 1.3268 - val_accuracy: 0.7390\n",
            "Epoch 81/100\n",
            "63/63 [==============================] - 10s 151ms/step - loss: 0.1350 - accuracy: 0.9475 - val_loss: 0.3604 - val_accuracy: 0.8710\n",
            "Epoch 82/100\n",
            "63/63 [==============================] - 9s 141ms/step - loss: 0.1267 - accuracy: 0.9485 - val_loss: 0.3196 - val_accuracy: 0.8760\n",
            "Epoch 83/100\n",
            "63/63 [==============================] - 9s 143ms/step - loss: 0.1281 - accuracy: 0.9490 - val_loss: 0.8079 - val_accuracy: 0.7440\n",
            "Epoch 84/100\n",
            "63/63 [==============================] - 9s 143ms/step - loss: 0.1218 - accuracy: 0.9515 - val_loss: 0.3687 - val_accuracy: 0.8820\n",
            "Epoch 85/100\n",
            "63/63 [==============================] - 10s 161ms/step - loss: 0.1377 - accuracy: 0.9420 - val_loss: 0.3478 - val_accuracy: 0.8760\n",
            "Epoch 86/100\n",
            "63/63 [==============================] - 9s 140ms/step - loss: 0.1237 - accuracy: 0.9560 - val_loss: 0.6756 - val_accuracy: 0.8200\n",
            "Epoch 87/100\n",
            "63/63 [==============================] - 9s 144ms/step - loss: 0.1296 - accuracy: 0.9470 - val_loss: 0.4643 - val_accuracy: 0.8370\n",
            "Epoch 88/100\n",
            "63/63 [==============================] - 10s 150ms/step - loss: 0.1331 - accuracy: 0.9525 - val_loss: 0.2285 - val_accuracy: 0.9090\n",
            "Epoch 89/100\n",
            "63/63 [==============================] - 10s 161ms/step - loss: 0.1205 - accuracy: 0.9510 - val_loss: 0.3222 - val_accuracy: 0.8760\n",
            "Epoch 90/100\n",
            "63/63 [==============================] - 9s 143ms/step - loss: 0.1151 - accuracy: 0.9570 - val_loss: 1.6630 - val_accuracy: 0.7070\n",
            "Epoch 91/100\n",
            "63/63 [==============================] - 9s 144ms/step - loss: 0.1172 - accuracy: 0.9585 - val_loss: 0.4146 - val_accuracy: 0.8720\n",
            "Epoch 92/100\n",
            "63/63 [==============================] - 10s 152ms/step - loss: 0.1072 - accuracy: 0.9580 - val_loss: 0.3356 - val_accuracy: 0.8880\n",
            "Epoch 93/100\n",
            "63/63 [==============================] - 9s 143ms/step - loss: 0.1087 - accuracy: 0.9585 - val_loss: 0.5816 - val_accuracy: 0.8060\n",
            "Epoch 94/100\n",
            "63/63 [==============================] - 9s 145ms/step - loss: 0.1115 - accuracy: 0.9555 - val_loss: 0.4506 - val_accuracy: 0.8710\n",
            "Epoch 95/100\n",
            "63/63 [==============================] - 10s 148ms/step - loss: 0.1025 - accuracy: 0.9585 - val_loss: 0.3826 - val_accuracy: 0.8820\n",
            "Epoch 96/100\n",
            "63/63 [==============================] - 10s 161ms/step - loss: 0.1187 - accuracy: 0.9520 - val_loss: 0.5512 - val_accuracy: 0.8150\n",
            "Epoch 97/100\n",
            "63/63 [==============================] - 9s 143ms/step - loss: 0.1055 - accuracy: 0.9610 - val_loss: 0.2816 - val_accuracy: 0.8930\n",
            "Epoch 98/100\n",
            "63/63 [==============================] - 9s 144ms/step - loss: 0.1055 - accuracy: 0.9605 - val_loss: 0.5991 - val_accuracy: 0.8500\n",
            "Epoch 99/100\n",
            "63/63 [==============================] - 10s 162ms/step - loss: 0.0866 - accuracy: 0.9700 - val_loss: 0.3097 - val_accuracy: 0.8980\n",
            "Epoch 100/100\n",
            "63/63 [==============================] - 9s 142ms/step - loss: 0.1106 - accuracy: 0.9560 - val_loss: 0.8226 - val_accuracy: 0.8040\n"
          ]
        }
      ],
      "source": [
        "model.compile(loss=\"binary_crossentropy\",\n",
        "              optimizer=\"rmsprop\",\n",
        "              metrics=[\"accuracy\"])\n",
        "history = model.fit(\n",
        "    train_dataset,\n",
        "    epochs=100,\n",
        "    validation_data=validation_dataset)"
      ]
    },
    {
      "cell_type": "code",
      "source": [
        "# Display Training and validation metrics with an Xception-like architecture\n",
        "import matplotlib.pyplot as plt\n",
        "accuracy = history.history[\"accuracy\"]\n",
        "val_accuracy = history.history[\"val_accuracy\"]\n",
        "loss = history.history[\"loss\"]\n",
        "val_loss = history.history[\"val_loss\"]\n",
        "epochs = range(1, len(accuracy) + 1)\n",
        "plt.plot(epochs, accuracy, \"bo\", label=\"Training accuracy\")\n",
        "plt.plot(epochs, val_accuracy, \"b\", label=\"Validation accuracy\")\n",
        "plt.title(\"Training and validation accuracy\")\n",
        "plt.legend()\n",
        "plt.figure()\n",
        "plt.plot(epochs, loss, \"bo\", label=\"Training loss\")\n",
        "plt.plot(epochs, val_loss, \"b\", label=\"Validation loss\")\n",
        "plt.title(\"Training and validation loss\")\n",
        "plt.legend()\n",
        "plt.show()"
      ],
      "metadata": {
        "colab": {
          "base_uri": "https://localhost:8080/",
          "height": 887
        },
        "id": "P98qvzFY1V2z",
        "outputId": "1278b7d5-9b74-46d7-af17-27f03218316e"
      },
      "execution_count": null,
      "outputs": [
        {
          "output_type": "display_data",
          "data": {
            "text/plain": [
              "<Figure size 640x480 with 1 Axes>"
            ],
            "image/png": "[encoded data removed]"
          },
          "metadata": {}
        },
        {
          "output_type": "display_data",
          "data": {
            "text/plain": [
              "<Figure size 640x480 with 1 Axes>"
            ],
            "image/png": "[encoded data removed]"
          },
          "metadata": {}
        }
      ]
    },
    {
      "cell_type": "markdown",
      "source": [
        "The new model achieves the highest test accuracy of 90%,"
      ],
      "metadata": {
        "id": "07eNyiJW5Ves"
      }
    }
  ],
  "metadata": {
    "colab": {
      "provenance": [],
      "gpuType": "T4",
      "toc_visible": true
    },
    "kernelspec": {
      "display_name": "Python 3",
      "name": "python3"
    },
    "language_info": {
      "codemirror_mode": {
        "name": "ipython",
        "version": 3
      },
      "file_extension": ".py",
      "mimetype": "text/x-python",
      "name": "python",
      "nbconvert_exporter": "python",
      "pygments_lexer": "ipython3",
      "version": "3.7.0"
    },
    "accelerator": "GPU"
  },
  "nbformat": 4,
  "nbformat_minor": 0
}